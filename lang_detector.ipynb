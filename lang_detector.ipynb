{
 "cells": [
  {
   "cell_type": "markdown",
   "id": "cd96ea1a",
   "metadata": {},
   "source": [
    "# Languange Detector With Machine Learning in Python\n",
    "\n",
    "- Use Datasets from Github amanKharwal Repo"
   ]
  },
  {
   "cell_type": "markdown",
   "id": "6fc044e5",
   "metadata": {},
   "source": [
    "- Import Library dan Load Dataset\n",
    "\n",
    "Pada bagian ini, kita akan mengimpor beberapa library penting yang digunakan untuk pemrosesan data dan membangun model machine learning berbasis teks."
   ]
  },
  {
   "cell_type": "code",
   "execution_count": 2,
   "id": "f5aff9ae",
   "metadata": {},
   "outputs": [
    {
     "name": "stdout",
     "output_type": "stream",
     "text": [
      "                                                Text  language\n",
      "0  klement gottwaldi surnukeha palsameeriti ning ...  Estonian\n",
      "1  sebes joseph pereira thomas  på eng the jesuit...   Swedish\n",
      "2  ถนนเจริญกรุง อักษรโรมัน thanon charoen krung เ...      Thai\n",
      "3  விசாகப்பட்டினம் தமிழ்ச்சங்கத்தை இந்துப் பத்திர...     Tamil\n",
      "4  de spons behoort tot het geslacht haliclona en...     Dutch\n"
     ]
    }
   ],
   "source": [
    "import numpy as np\n",
    "import pandas as pd\n",
    "from sklearn.feature_extraction.text import CountVectorizer\n",
    "from sklearn.model_selection import train_test_split\n",
    "from sklearn.naive_bayes import MultinomialNB\n",
    "data = pd.read_csv(\"dataset.csv\")\n",
    "print(data.head())"
   ]
  },
  {
   "cell_type": "markdown",
   "id": "1d63d2bb",
   "metadata": {},
   "source": [
    "* Penjelasan\n",
    "\n",
    "Kolom Text\n",
    "Berisi potongan kalimat atau paragraf dalam berbagai bahasa. Ini merupakan fitur utama (feature) yang akan digunakan sebagai input untuk model machine learning.\n",
    "\n",
    "Kolom language\n",
    "Menunjukkan bahasa dari teks tersebut. Ini adalah label (target) yang akan diprediksi oleh model.\n",
    "Contoh:\n",
    "\n",
    "Baris 0 → Bahasa Estonia\n",
    "\n",
    "Baris 1 → Bahasa Swedia\n",
    "\n",
    "Baris 2 → Bahasa Thai\n",
    "\n",
    "Baris 3 → Bahasa Tamil\n",
    "\n",
    "Baris 4 → Bahasa Belanda\n",
    "\n",
    "Tujuan Dataset\n",
    "Dataset ini kemungkinan digunakan untuk tugas language identification — yaitu mengklasifikasikan teks ke dalam bahasa yang sesuai."
   ]
  },
  {
   "cell_type": "markdown",
   "id": "7554d2de",
   "metadata": {},
   "source": [
    "- Sebelum memproses data lebih lanjut, kita perlu memastikan bahwa tidak ada nilai kosong atau hilang di dalam dataset."
   ]
  },
  {
   "cell_type": "code",
   "execution_count": 7,
   "id": "ac08db9d",
   "metadata": {},
   "outputs": [
    {
     "data": {
      "application/vnd.microsoft.datawrangler.viewer.v0+json": {
       "columns": [
        {
         "name": "index",
         "rawType": "object",
         "type": "string"
        },
        {
         "name": "0",
         "rawType": "int64",
         "type": "integer"
        }
       ],
       "ref": "a75f3b56-9930-4b7e-a603-fc11600e1be5",
       "rows": [
        [
         "Text",
         "0"
        ],
        [
         "language",
         "0"
        ]
       ],
       "shape": {
        "columns": 1,
        "rows": 2
       }
      },
      "text/plain": [
       "Text        0\n",
       "language    0\n",
       "dtype: int64"
      ]
     },
     "execution_count": 7,
     "metadata": {},
     "output_type": "execute_result"
    }
   ],
   "source": [
    "data.isnull().sum()"
   ]
  },
  {
   "cell_type": "markdown",
   "id": "7268cc4d",
   "metadata": {},
   "source": [
    "* Nilai 0 pada setiap kolom berarti tidak ada data yang hilang.\n",
    "\n",
    "* Jika ada nilai lebih dari 0, berarti terdapat baris yang perlu dibersihkan atau dihapus sebelum pemrosesan lebih lanjut."
   ]
  },
  {
   "cell_type": "markdown",
   "id": "a23ec99a",
   "metadata": {},
   "source": [
    "Untuk mengetahui seberapa seimbang dataset yang kita gunakan, kita dapat melihat jumlah teks per bahasa dengan perintah berikut:"
   ]
  },
  {
   "cell_type": "code",
   "execution_count": 6,
   "id": "15465e2f",
   "metadata": {},
   "outputs": [
    {
     "data": {
      "application/vnd.microsoft.datawrangler.viewer.v0+json": {
       "columns": [
        {
         "name": "language",
         "rawType": "object",
         "type": "string"
        },
        {
         "name": "count",
         "rawType": "int64",
         "type": "integer"
        }
       ],
       "ref": "c38fa99d-3fd0-47a8-b786-cf0ab296e749",
       "rows": [
        [
         "Estonian",
         "1000"
        ],
        [
         "Swedish",
         "1000"
        ],
        [
         "Thai",
         "1000"
        ],
        [
         "Tamil",
         "1000"
        ],
        [
         "Dutch",
         "1000"
        ],
        [
         "Japanese",
         "1000"
        ],
        [
         "Turkish",
         "1000"
        ],
        [
         "Latin",
         "1000"
        ],
        [
         "Urdu",
         "1000"
        ],
        [
         "Indonesian",
         "1000"
        ],
        [
         "Portugese",
         "1000"
        ],
        [
         "French",
         "1000"
        ],
        [
         "Chinese",
         "1000"
        ],
        [
         "Korean",
         "1000"
        ],
        [
         "Hindi",
         "1000"
        ],
        [
         "Spanish",
         "1000"
        ],
        [
         "Pushto",
         "1000"
        ],
        [
         "Persian",
         "1000"
        ],
        [
         "Romanian",
         "1000"
        ],
        [
         "Russian",
         "1000"
        ],
        [
         "English",
         "1000"
        ],
        [
         "Arabic",
         "1000"
        ]
       ],
       "shape": {
        "columns": 1,
        "rows": 22
       }
      },
      "text/plain": [
       "language\n",
       "Estonian      1000\n",
       "Swedish       1000\n",
       "Thai          1000\n",
       "Tamil         1000\n",
       "Dutch         1000\n",
       "Japanese      1000\n",
       "Turkish       1000\n",
       "Latin         1000\n",
       "Urdu          1000\n",
       "Indonesian    1000\n",
       "Portugese     1000\n",
       "French        1000\n",
       "Chinese       1000\n",
       "Korean        1000\n",
       "Hindi         1000\n",
       "Spanish       1000\n",
       "Pushto        1000\n",
       "Persian       1000\n",
       "Romanian      1000\n",
       "Russian       1000\n",
       "English       1000\n",
       "Arabic        1000\n",
       "Name: count, dtype: int64"
      ]
     },
     "execution_count": 6,
     "metadata": {},
     "output_type": "execute_result"
    }
   ],
   "source": [
    "data[\"language\"].value_counts()"
   ]
  },
  {
   "cell_type": "markdown",
   "id": "d44b62f2",
   "metadata": {},
   "source": [
    "Setiap bahasa memiliki jumlah data = 1000\n",
    "Artinya dataset ini sangat seimbang (balanced dataset) — tidak ada bahasa yang mendominasi.\n",
    "\n",
    "Keuntungan dataset seimbang:\n",
    "\n",
    "Model machine learning akan belajar dengan adil terhadap semua bahasa.\n",
    "\n",
    "Tidak terjadi bias terhadap bahasa tertentu (misalnya bahasa Inggris yang sering muncul lebih banyak dalam dataset lain).\n",
    "\n",
    "Jumlah total data:\n",
    "Terdapat 22 bahasa × 1000 data = 22.000 teks.\n"
   ]
  },
  {
   "cell_type": "markdown",
   "id": "0ad10fdb",
   "metadata": {},
   "source": [
    "Setelah memastikan dataset bersih dan seimbang, langkah berikutnya adalah mengubah teks menjadi bentuk numerik agar bisa diproses oleh model machine learning. kemudian kita split menjadi data training dan data test"
   ]
  },
  {
   "cell_type": "code",
   "execution_count": 9,
   "id": "fc3b6b08",
   "metadata": {},
   "outputs": [],
   "source": [
    "x = np.array(data[\"Text\"])\n",
    "y = np.array(data[\"language\"])\n",
    "\n",
    "cv = CountVectorizer()\n",
    "X = cv.fit_transform(x)\n",
    "X_train, X_test, y_train, y_test = train_test_split(X, y, test_size=0.33, random_state=42)"
   ]
  },
  {
   "cell_type": "markdown",
   "id": "cf64afdc",
   "metadata": {},
   "source": [
    "Karena ini adalah masalah klasifikasi multikelas, maka saya akan menggunakan algoritma Multinomial Naïve Bayes untuk melatih model deteksi bahasa, karena algoritma ini biasanya memberikan performa yang sangat baik pada permasalahan klasifikasi dengan banyak kelas (multiclass classification)."
   ]
  },
  {
   "cell_type": "code",
   "execution_count": 10,
   "id": "54a4e179",
   "metadata": {},
   "outputs": [
    {
     "data": {
      "text/plain": [
       "0.953168044077135"
      ]
     },
     "execution_count": 10,
     "metadata": {},
     "output_type": "execute_result"
    }
   ],
   "source": [
    "model = MultinomialNB()\n",
    "model.fit(X_train, y_train)\n",
    "model.score(X_test, y_test)"
   ]
  },
  {
   "cell_type": "markdown",
   "id": "ef2ce5ec",
   "metadata": {},
   "source": [
    "- model = MultinomialNB()\n",
    "Membuat objek model Naïve Bayes tipe Multinomial, yang cocok untuk data hasil CountVectorizer (berbasis frekuensi kata).\n",
    "\n",
    "- model.fit(X_train, y_train)\n",
    "Melatih model menggunakan data latih (X_train) dan label bahasa (y_train).\n",
    "\n",
    "- model.score(X_test, y_test)\n",
    "Menghitung akurasi model dengan membandingkan prediksi pada data uji (X_test) terhadap label sebenarnya (y_test).\n",
    "\n",
    "Hasil Akurasi -> 0.953168044077135\n",
    "Artinya, model berhasil mengklasifikasikan bahasa dengan akurasi sekitar 95.3%."
   ]
  },
  {
   "cell_type": "markdown",
   "id": "5115892a",
   "metadata": {},
   "source": [
    "Setelah model selesai dilatih, kini kita dapat mengujinya secara langsung dengan memberikan teks baru.\n",
    "Kode berikut memungkinkan pengguna mengetik teks, lalu model akan memprediksi bahasanya."
   ]
  },
  {
   "cell_type": "code",
   "execution_count": 12,
   "id": "4e8f2a13",
   "metadata": {},
   "outputs": [
    {
     "name": "stdout",
     "output_type": "stream",
     "text": [
      "['Russian']\n"
     ]
    }
   ],
   "source": [
    "user = input(\"Enter a text: \")\n",
    "data = cv.transform([user]).toarray()\n",
    "output = model.predict(data)\n",
    "print(output)"
   ]
  },
  {
   "cell_type": "markdown",
   "id": "74ea32d9",
   "metadata": {},
   "source": [
    "Model kini dapat mendeteksi bahasa teks baru secara real-time.\n",
    "\n",
    "Akurasi model sebelumnya (≈95%) menunjukkan prediksi yang sangat dapat diandalkan."
   ]
  },
  {
   "cell_type": "markdown",
   "id": "c23e3f04",
   "metadata": {},
   "source": [
    "# Kesimpulan\n",
    "\n",
    "Proyek ini berhasil membangun model deteksi bahasa otomatis menggunakan algoritma Multinomial Naïve Bayes dengan hasil yang sangat memuaskan.\n",
    "\n",
    "(Ringkasan Tahapan)\n",
    "\n",
    "1. Import Library & Load Dataset\n",
    "    -> Dataset berisi teks dari berbagai bahasa berhasil dimuat menggunakan Pandas.\n",
    "\n",
    "2. Pengecekan Data\n",
    "   -> Tidak ditemukan data kosong (missing values), dan setiap bahasa memiliki jumlah data yang sama (1000 data per bahasa), sehingga dataset seimbang (balanced).\n",
    "\n",
    "3. Vectorization\n",
    "   -> Teks diubah menjadi bentuk numerik menggunakan CountVectorizer untuk memudahkan pemrosesan oleh algoritma machine learning.\n",
    "\n",
    "* Split Data\n",
    "Dataset dibagi menjadi:\n",
    "\n",
    "    * 67% data latih\n",
    "\n",
    "    * 33% data uji\n",
    "untuk memastikan model dapat diuji dengan data yang belum pernah dilihat sebelumnya.\n",
    "\n",
    "4. Pelatihan Model\n",
    "   -> Menggunakan algoritma Multinomial Naïve Bayes, yang sangat cocok untuk kasus multiclass text classification seperti deteksi bahasa.\n",
    "\n",
    "5. Evaluasi Model\n",
    "    -> Model mencapai akurasi sebesar 95.3%, menandakan performa yang sangat baik.\n",
    "\n",
    "6. Prediksi Bahasa Baru\n",
    "    -> Model mampu memprediksi bahasa dari teks input pengguna dengan hasil yang akurat, misalnya:\n",
    "\n",
    "Contoh :\n",
    "\n",
    "\"Saya suka belajar mesin cerdas\" → Indonesian\n",
    "\n",
    "\"Bonjour, comment ça va?\" → French"
   ]
  }
 ],
 "metadata": {
  "kernelspec": {
   "display_name": "venv (3.13.3)",
   "language": "python",
   "name": "python3"
  },
  "language_info": {
   "codemirror_mode": {
    "name": "ipython",
    "version": 3
   },
   "file_extension": ".py",
   "mimetype": "text/x-python",
   "name": "python",
   "nbconvert_exporter": "python",
   "pygments_lexer": "ipython3",
   "version": "3.13.3"
  }
 },
 "nbformat": 4,
 "nbformat_minor": 5
}
